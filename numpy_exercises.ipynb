{
 "cells": [
  {
   "cell_type": "code",
   "execution_count": 240,
   "metadata": {},
   "outputs": [],
   "source": [
    "%matplotlib notebook\n",
    "import numpy as np\n",
    "import math\n",
    "from functools import reduce\n",
    "import matplotlib.pyplot as plt\n",
    "%matplotlib inline"
   ]
  },
  {
   "cell_type": "code",
   "execution_count": 95,
   "metadata": {},
   "outputs": [],
   "source": [
    "a = np.array([4, 10, 12, 23, -2, -1, 0, 0, 0, -6, 3, -7])"
   ]
  },
  {
   "cell_type": "markdown",
   "metadata": {},
   "source": [
    "### How many negative numbers are there?"
   ]
  },
  {
   "cell_type": "code",
   "execution_count": 14,
   "metadata": {},
   "outputs": [
    {
     "data": {
      "text/plain": [
       "4"
      ]
     },
     "execution_count": 14,
     "metadata": {},
     "output_type": "execute_result"
    }
   ],
   "source": [
    "a[a < 0].shape[0]"
   ]
  },
  {
   "cell_type": "markdown",
   "metadata": {},
   "source": [
    "### How many positive numbers are there?"
   ]
  },
  {
   "cell_type": "code",
   "execution_count": 15,
   "metadata": {},
   "outputs": [
    {
     "data": {
      "text/plain": [
       "5"
      ]
     },
     "execution_count": 15,
     "metadata": {},
     "output_type": "execute_result"
    }
   ],
   "source": [
    "a[a > 0].shape[0]"
   ]
  },
  {
   "cell_type": "markdown",
   "metadata": {},
   "source": [
    "### How many even positive numbers are there?"
   ]
  },
  {
   "cell_type": "code",
   "execution_count": 99,
   "metadata": {},
   "outputs": [
    {
     "data": {
      "text/plain": [
       "3"
      ]
     },
     "execution_count": 99,
     "metadata": {},
     "output_type": "execute_result"
    }
   ],
   "source": [
    "a[(a > 0) & (a % 2 == 0)].shape[0]"
   ]
  },
  {
   "cell_type": "markdown",
   "metadata": {},
   "source": [
    "### If you were to add 3 to each data point, how many positive numbers would there be?"
   ]
  },
  {
   "cell_type": "code",
   "execution_count": 33,
   "metadata": {},
   "outputs": [
    {
     "data": {
      "text/plain": [
       "10"
      ]
     },
     "execution_count": 33,
     "metadata": {},
     "output_type": "execute_result"
    }
   ],
   "source": [
    "# a[(a + 3) & (a > 0)]\n",
    "b = a + 3\n",
    "b[b > 0].shape[0]"
   ]
  },
  {
   "cell_type": "markdown",
   "metadata": {},
   "source": [
    "### If you squared each number, what would the new mean and standard deviation be?"
   ]
  },
  {
   "cell_type": "code",
   "execution_count": 71,
   "metadata": {},
   "outputs": [
    {
     "name": "stdout",
     "output_type": "stream",
     "text": [
      "74.0\n",
      "144.0243035046516\n"
     ]
    }
   ],
   "source": [
    "b = (a ** 2).mean()\n",
    "print(b)\n",
    "c = (a ** 2).std()\n",
    "print(c)"
   ]
  },
  {
   "cell_type": "markdown",
   "metadata": {},
   "source": [
    "### A common statistical operation on a dataset is centering. This means to adjust the data such that the center of the data is at 0. This is done by subtracting the mean from each data point. Center the data set."
   ]
  },
  {
   "cell_type": "code",
   "execution_count": 66,
   "metadata": {},
   "outputs": [
    {
     "data": {
      "text/plain": [
       "array([  1.,   7.,   9.,  20.,  -5.,  -4.,  -3.,  -3.,  -3.,  -9.,   0.,\n",
       "       -10.])"
      ]
     },
     "execution_count": 66,
     "metadata": {},
     "output_type": "execute_result"
    }
   ],
   "source": [
    "b = a - a.mean()\n",
    "b"
   ]
  },
  {
   "cell_type": "markdown",
   "metadata": {},
   "source": [
    "Calculate the z-score for each data point. Recall that the z-score is given by:\n",
    "z = x - mean / std"
   ]
  },
  {
   "cell_type": "code",
   "execution_count": 67,
   "metadata": {},
   "outputs": [
    {
     "data": {
      "text/plain": [
       "array([ 0.12403473,  0.86824314,  1.11631261,  2.48069469, -0.62017367,\n",
       "       -0.49613894, -0.3721042 , -0.3721042 , -0.3721042 , -1.11631261,\n",
       "        0.        , -1.24034735])"
      ]
     },
     "execution_count": 67,
     "metadata": {},
     "output_type": "execute_result"
    }
   ],
   "source": [
    "b = (a - a.mean()) / a.std()\n",
    "b"
   ]
  },
  {
   "cell_type": "markdown",
   "metadata": {},
   "source": [
    "a = [1, 2, 3, 4, 5, 6, 7, 8, 9, 10]\n",
    "\n",
    "Use python's built in functionality/operators to determine the following:\n",
    "Exercise 1 - Make a variable called sum_of_a to hold the sum of all the numbers in above list\n",
    "\n",
    "Exercise 2 - Make a variable named min_of_a to hold the minimum of all the numbers in the above list\n",
    "\n",
    "Exercise 3 - Make a variable named max_of_a to hold the max number of all the numbers in the above list\n",
    "\n",
    "Exercise 4 - Make a variable named mean_of_a to hold the average of all the numbers in the above list\n",
    "\n",
    "Exercise 5 - Make a variable named product_of_a to hold the product of multiplying all the numbers in the above list together\n",
    "\n",
    "Exercise 6 - Make a variable named squares_of_a. It should hold each number in a squared like [1, 4, 9, 16, 25...]\n",
    "\n",
    "Exercise 7 - Make a variable named odds_in_a. It should hold only the odd numbers\n",
    "\n",
    "Exercise 8 - Make a variable named evens_in_a. It should hold only the evens."
   ]
  },
  {
   "cell_type": "code",
   "execution_count": 227,
   "metadata": {},
   "outputs": [],
   "source": [
    "aa = np.array([1, 2, 3, 4, 5, 6, 7, 8, 9, 10])\n",
    "aaa = [1, 2, 3, 4, 5, 6, 7, 8, 9, 10]"
   ]
  },
  {
   "cell_type": "code",
   "execution_count": 236,
   "metadata": {},
   "outputs": [
    {
     "name": "stdout",
     "output_type": "stream",
     "text": [
      "numpy sum = 55\n",
      "python list comp sum = 55\n"
     ]
    }
   ],
   "source": [
    "sum_of_aa = aa.sum()\n",
    "print(f'numpy sum = {sum_of_aa}')\n",
    "\n",
    "sum_of_aaa = sum(aaa)\n",
    "print(f'python list comp sum = {sum_of_aaa}')"
   ]
  },
  {
   "cell_type": "code",
   "execution_count": 147,
   "metadata": {},
   "outputs": [
    {
     "name": "stdout",
     "output_type": "stream",
     "text": [
      "numpy min = 1\n",
      "python min = 1\n"
     ]
    }
   ],
   "source": [
    "min_of_aa = aa.min()\n",
    "print(f'numpy min = {min_of_aa}')\n",
    "\n",
    "min_of_aaa = min(aaa)\n",
    "print(f'python min = {min_of_aaa}')"
   ]
  },
  {
   "cell_type": "code",
   "execution_count": 146,
   "metadata": {},
   "outputs": [
    {
     "name": "stdout",
     "output_type": "stream",
     "text": [
      "numpy max = 10\n",
      "python max = 10\n"
     ]
    }
   ],
   "source": [
    "max_of_aa = aa.max()\n",
    "print(f'numpy max = {max_of_aa}')\n",
    "\n",
    "max_of_aaa = max(aaa)\n",
    "print(f'python max = {max_of_aaa}')"
   ]
  },
  {
   "cell_type": "code",
   "execution_count": 144,
   "metadata": {},
   "outputs": [
    {
     "name": "stdout",
     "output_type": "stream",
     "text": [
      "numpy mean = 5.5\n",
      "python mean = 5.5\n"
     ]
    }
   ],
   "source": [
    "mean_of_aa = aa.mean()\n",
    "print(f'numpy mean = {aa.mean()}')\n",
    "\n",
    "mean_of_aaa = sum(aaa) / len(aaa)\n",
    "print(f'python mean = {mean_of_aaa}')"
   ]
  },
  {
   "cell_type": "code",
   "execution_count": 142,
   "metadata": {},
   "outputs": [
    {
     "name": "stdout",
     "output_type": "stream",
     "text": [
      "numpy product = 3628800\n",
      "python reduce product = 3628800\n"
     ]
    }
   ],
   "source": [
    "product_of_aa = aa.prod()\n",
    "print(f'numpy product = {product_of_aa}')\n",
    "\n",
    "product_of_aaa = reduce((lambda x, y: x * y), aaa)\n",
    "print(f'python reduce product = {reduce((lambda x, y: x * y), aaa)}')"
   ]
  },
  {
   "cell_type": "code",
   "execution_count": 158,
   "metadata": {},
   "outputs": [
    {
     "name": "stdout",
     "output_type": "stream",
     "text": [
      "numpy squares = [  1   4   9  16  25  36  49  64  81 100]\n",
      "python list comp squares = [1, 4, 9, 16, 25, 36, 49, 64, 81, 100]\n"
     ]
    }
   ],
   "source": [
    "squares_of_aa = np.square(aa)\n",
    "print(f'numpy squares = {squares_of_aa}')\n",
    "\n",
    "squares_of_aaa = [i ** 2 for i in aaa]\n",
    "print(f'python list comp squares = {[i ** 2 for i in aaa]}')"
   ]
  },
  {
   "cell_type": "code",
   "execution_count": 164,
   "metadata": {},
   "outputs": [
    {
     "name": "stdout",
     "output_type": "stream",
     "text": [
      "numpy odds = [1 3 5 7 9]\n",
      "python list comp odds = [1, 3, 5, 7, 9]\n"
     ]
    }
   ],
   "source": [
    "odds_in_aa = aa[aa % 2 == 1]\n",
    "print(f'numpy odds = {odds_in_aa}')\n",
    "\n",
    "odds_in_aaa = [i for i in aaa if i % 2 == 1]\n",
    "print(f'python list comp odds = {[i for i in aaa if i % 2 == 1]}')"
   ]
  },
  {
   "cell_type": "code",
   "execution_count": 166,
   "metadata": {},
   "outputs": [
    {
     "name": "stdout",
     "output_type": "stream",
     "text": [
      "numpy evens = [ 2  4  6  8 10]\n",
      "python list comp evens [2, 4, 6, 8, 10]\n"
     ]
    }
   ],
   "source": [
    "evens_in_aa = aa[aa % 2 == 0]\n",
    "print(f'numpy evens = {evens_in_aa}')\n",
    "\n",
    "evens_in_aaa = [i for i in aaa if i % 2 == 0]\n",
    "print(f'python list comp evens {[i for i in aaa if i % 2 == 0]}')"
   ]
  },
  {
   "cell_type": "markdown",
   "metadata": {},
   "source": [
    "What about life in two dimensions? A list of lists is matrix, a table, a spreadsheet, a chessboard...\n",
    "\n",
    "Setup 2: Consider what it would take to find the sum, min, max, average, sum, product, and list of squares for this list of two lists.\n",
    "\n",
    "b = [\n",
    "\n",
    "    [3, 4, 5],\n",
    "    [6, 7, 8]\n",
    "    \n",
    "]\n"
   ]
  },
  {
   "cell_type": "code",
   "execution_count": 205,
   "metadata": {},
   "outputs": [],
   "source": [
    "bb = np.array([[3,4,5], [6,7,8]])"
   ]
  },
  {
   "cell_type": "code",
   "execution_count": 173,
   "metadata": {},
   "outputs": [
    {
     "name": "stdout",
     "output_type": "stream",
     "text": [
      "sum = 33\n",
      "min = 3\n",
      "max = 8\n",
      "mean = 5.5\n",
      "prod = 20160\n",
      "square = [[ 9 16 25]\n",
      " [36 49 64]]\n"
     ]
    }
   ],
   "source": [
    "bb_sum = bb.sum()\n",
    "bb_min = bb.min()\n",
    "bb_max = bb.max()\n",
    "bb_mean = bb.mean()\n",
    "bb_prod = bb.prod()\n",
    "bb_square = np.square(bb)\n",
    "print(f'sum = {bb_sum}')\n",
    "print(f'min = {bb_min}')\n",
    "print(f'max = {bb_max}')\n",
    "print(f'mean = {bb_mean}')\n",
    "print(f'prod = {bb_prod}')\n",
    "print(f'square = {bb_square}')"
   ]
  },
  {
   "cell_type": "markdown",
   "metadata": {},
   "source": [
    "Exercise 9 - print out the shape of the array b.\n",
    "\n",
    "Exercise 10 - transpose the array b.\n",
    "\n",
    "Exercise 11 - reshape the array b to be a single list of 6 numbers. (1 x 6)\n",
    "\n",
    "Exercise 12 - reshape the array b to be a list of 6 lists, each containing only 1 number (6 x 1)"
   ]
  },
  {
   "cell_type": "code",
   "execution_count": 237,
   "metadata": {},
   "outputs": [
    {
     "data": {
      "text/plain": [
       "6"
      ]
     },
     "execution_count": 237,
     "metadata": {},
     "output_type": "execute_result"
    }
   ],
   "source": [
    "bb.shape[0]"
   ]
  },
  {
   "cell_type": "code",
   "execution_count": 181,
   "metadata": {},
   "outputs": [
    {
     "data": {
      "text/plain": [
       "array([[3, 6],\n",
       "       [4, 7],\n",
       "       [5, 8]])"
      ]
     },
     "execution_count": 181,
     "metadata": {},
     "output_type": "execute_result"
    }
   ],
   "source": [
    "np.transpose(bb)"
   ]
  },
  {
   "cell_type": "code",
   "execution_count": 208,
   "metadata": {},
   "outputs": [],
   "source": [
    "# np.concatenate(bb)\n",
    "bb = bb.flatten()"
   ]
  },
  {
   "cell_type": "code",
   "execution_count": 192,
   "metadata": {},
   "outputs": [
    {
     "data": {
      "text/plain": [
       "array([[3, 4, 5],\n",
       "       [6, 7, 8]])"
      ]
     },
     "execution_count": 192,
     "metadata": {},
     "output_type": "execute_result"
    }
   ],
   "source": [
    "np.asarray(bb)"
   ]
  },
  {
   "cell_type": "code",
   "execution_count": 213,
   "metadata": {},
   "outputs": [],
   "source": [
    "bb = np.reshape(bb, (6,1))"
   ]
  },
  {
   "cell_type": "code",
   "execution_count": 214,
   "metadata": {},
   "outputs": [
    {
     "data": {
      "text/plain": [
       "array([[3],\n",
       "       [4],\n",
       "       [5],\n",
       "       [6],\n",
       "       [7],\n",
       "       [8]])"
      ]
     },
     "execution_count": 214,
     "metadata": {},
     "output_type": "execute_result"
    }
   ],
   "source": [
    "bb"
   ]
  },
  {
   "cell_type": "code",
   "execution_count": 253,
   "metadata": {},
   "outputs": [],
   "source": [
    "c = np.array([\n",
    "    [1, 2, 3],\n",
    "    [4, 5, 6],\n",
    "    [7, 8, 9]\n",
    "])"
   ]
  },
  {
   "cell_type": "markdown",
   "metadata": {},
   "source": [
    "Exercise 1 - Find the min, max, sum, and product of c.\n",
    "\n",
    "Exercise 2 - Determine the standard deviation of c.\n",
    "\n",
    "Exercise 3 - Determine the variance of c.\n",
    "\n",
    "Exercise 4 - Print out the shape of the array c\n",
    "\n",
    "Exercise 5 - Transpose c and print out transposed result.\n",
    "\n",
    "Exercise 6 - Multiply c by the c-Transposed and print the result.\n",
    "\n",
    "Exercise 7 - Write the code necessary to sum up the result of c times c transposed. Answer should be 261\n",
    "\n",
    "Exercise 8 - Write the code necessary to determine the product of c times c transposed. Answer should be 131681894400."
   ]
  },
  {
   "cell_type": "code",
   "execution_count": 243,
   "metadata": {},
   "outputs": [
    {
     "name": "stdout",
     "output_type": "stream",
     "text": [
      "numpy min = 1\n",
      "numpy max = 9\n",
      "numpy sum = 45\n",
      "numpy prod = 362880\n"
     ]
    }
   ],
   "source": [
    "print(f'numpy min = {c.min()}')\n",
    "print(f'numpy max = {c.max()}')\n",
    "print(f'numpy sum = {c.sum()}')\n",
    "print(f'numpy prod = {c.prod()}')"
   ]
  },
  {
   "cell_type": "code",
   "execution_count": 226,
   "metadata": {},
   "outputs": [
    {
     "name": "stdout",
     "output_type": "stream",
     "text": [
      "numpy std = 2.581988897471611\n",
      "numpy variance = 6.666666666666667\n",
      "numpy shape = (3, 3)\n",
      "numpy transpose = [[1 4 7]\n",
      " [2 5 8]\n",
      " [3 6 9]]\n",
      "numpy c * c.transpose = [[ 1  8 21]\n",
      " [ 8 25 48]\n",
      " [21 48 81]]\n",
      "numpy sum of c*c.trans = 261\n",
      "numpy prod of c*c.trans = [[ 362880 1451520 2540160]\n",
      " [ 725760 1814400 2903040]\n",
      " [1088640 2177280 3265920]]\n"
     ]
    }
   ],
   "source": [
    "print(f'numpy std = {c.std()}')\n",
    "print(f'numpy variance = {c.var()}')\n",
    "print(f'numpy shape = {c.shape}')\n",
    "print(f'numpy transpose = {c.transpose()}')\n",
    "print(f'numpy c * c.transpose = {c * c.transpose()}')\n",
    "print(f'numpy sum of c*c.trans = {(c * c.transpose()).sum()}')\n",
    "print(f'numpy prod of c*c.trans = {(c.prod() * c.transpose())}')"
   ]
  },
  {
   "cell_type": "code",
   "execution_count": 256,
   "metadata": {},
   "outputs": [],
   "source": [
    "dd = np.array(\n",
    "    [[90, 30, 45, 0, 120, 180],\n",
    "    [45, -90, -30, 270, 90, 0],\n",
    "    [60, 45, -45, 90, -45, 180]]\n",
    ")"
   ]
  },
  {
   "cell_type": "code",
   "execution_count": 264,
   "metadata": {},
   "outputs": [
    {
     "name": "stdout",
     "output_type": "stream",
     "text": [
      "sin(dd) = \n",
      "[[ 0.89399666 -0.98803162  0.85090352  0.          0.58061118 -0.80115264]\n",
      " [ 0.85090352 -0.89399666  0.98803162 -0.17604595  0.89399666  0.        ]\n",
      " [-0.30481062  0.85090352 -0.85090352  0.89399666 -0.85090352 -0.80115264]]\n"
     ]
    }
   ],
   "source": [
    "sine_dd = np.sin(dd)\n",
    "print(f'sin(dd) = \\n{sine_dd}')"
   ]
  },
  {
   "cell_type": "code",
   "execution_count": 265,
   "metadata": {},
   "outputs": [
    {
     "name": "stdout",
     "output_type": "stream",
     "text": [
      "cos(dd) = \n",
      "[[-0.44807362  0.15425145  0.52532199  1.          0.81418097 -0.59846007]\n",
      " [ 0.52532199 -0.44807362  0.15425145  0.98438195 -0.44807362  1.        ]\n",
      " [-0.95241298  0.52532199  0.52532199 -0.44807362  0.52532199 -0.59846007]]\n"
     ]
    }
   ],
   "source": [
    "cos_dd = np.cos(dd)\n",
    "print(f'cos(dd) = \\n{cos_dd}')"
   ]
  },
  {
   "cell_type": "code",
   "execution_count": 266,
   "metadata": {},
   "outputs": [
    {
     "name": "stdout",
     "output_type": "stream",
     "text": [
      "cos(dd) = \n",
      "[[-1.99520041 -6.4053312   1.61977519  0.          0.71312301  1.33869021]\n",
      " [ 1.61977519  1.99520041  6.4053312  -0.17883906 -1.99520041  0.        ]\n",
      " [ 0.32004039  1.61977519 -1.61977519 -1.99520041 -1.61977519  1.33869021]]\n"
     ]
    }
   ],
   "source": [
    "tan_dd = np.tan(dd)\n",
    "print(f'cos(dd) = \\n{tan_dd}')"
   ]
  },
  {
   "cell_type": "code",
   "execution_count": 280,
   "metadata": {
    "scrolled": true
   },
   "outputs": [
    {
     "name": "stdout",
     "output_type": "stream",
     "text": [
      "negative(dd) = \n",
      "[-90 -30 -45 -45]\n"
     ]
    }
   ],
   "source": [
    "neg_dd = dd[dd < 0]\n",
    "print(f'negative(dd) = \\n{neg_dd}')"
   ]
  },
  {
   "cell_type": "code",
   "execution_count": 281,
   "metadata": {},
   "outputs": [
    {
     "name": "stdout",
     "output_type": "stream",
     "text": [
      "positive(dd) = \n",
      "[ 90  30  45 120 180  45 270  90  60  45  90 180]\n"
     ]
    }
   ],
   "source": [
    "pos_dd = dd[dd > 0]\n",
    "print(f'positive(dd) = \\n{pos_dd}')"
   ]
  },
  {
   "cell_type": "code",
   "execution_count": 282,
   "metadata": {},
   "outputs": [
    {
     "name": "stdout",
     "output_type": "stream",
     "text": [
      "unique array(dd) =\n",
      "[-90 -45 -30   0  30  45  60  90 120 180 270]\n"
     ]
    }
   ],
   "source": [
    "unique_array_dd = np.unique(dd)\n",
    "print(f'unique array(dd) =\\n{unique_array_dd}')"
   ]
  },
  {
   "cell_type": "code",
   "execution_count": 284,
   "metadata": {},
   "outputs": [
    {
     "name": "stdout",
     "output_type": "stream",
     "text": [
      "unique count(dd) = 11\n"
     ]
    }
   ],
   "source": [
    "unique_count = len(np.unique(dd))\n",
    "print(f'unique count(dd) = {unique_count}')"
   ]
  },
  {
   "cell_type": "code",
   "execution_count": 296,
   "metadata": {},
   "outputs": [
    {
     "name": "stdout",
     "output_type": "stream",
     "text": [
      "dd.shape = (3, 6)\n"
     ]
    }
   ],
   "source": [
    "print(f'dd.shape = {dd.shape}')"
   ]
  },
  {
   "cell_type": "code",
   "execution_count": 300,
   "metadata": {},
   "outputs": [
    {
     "name": "stdout",
     "output_type": "stream",
     "text": [
      "[[ 90  30  45   0 120 180]\n",
      " [ 45 -90 -30 270  90   0]\n",
      " [ 60  45 -45  90 -45 180]]\n",
      "trans shape(dd) = \n",
      "[[ 90  45  60]\n",
      " [ 30 -90  45]\n",
      " [ 45 -30 -45]\n",
      " [  0 270  90]\n",
      " [120  90 -45]\n",
      " [180   0 180]]\n"
     ]
    }
   ],
   "source": [
    "trans_dd = dd.transpose()\n",
    "print(f'trans shape(dd) = \\n{trans_dd}')"
   ]
  },
  {
   "cell_type": "code",
   "execution_count": 303,
   "metadata": {},
   "outputs": [
    {
     "name": "stdout",
     "output_type": "stream",
     "text": [
      "reshaped 9x2 = \n",
      "[[ 90  30]\n",
      " [ 45   0]\n",
      " [120 180]\n",
      " [ 45 -90]\n",
      " [-30 270]\n",
      " [ 90   0]\n",
      " [ 60  45]\n",
      " [-45  90]\n",
      " [-45 180]]\n"
     ]
    }
   ],
   "source": [
    "reshape9x2 = np.reshape(dd, (9,2))\n",
    "print(f'reshaped 9x2 = \\n{reshape9x2}')"
   ]
  },
  {
   "cell_type": "code",
   "execution_count": null,
   "metadata": {},
   "outputs": [],
   "source": []
  }
 ],
 "metadata": {
  "kernelspec": {
   "display_name": "Python 3",
   "language": "python",
   "name": "python3"
  },
  "language_info": {
   "codemirror_mode": {
    "name": "ipython",
    "version": 3
   },
   "file_extension": ".py",
   "mimetype": "text/x-python",
   "name": "python",
   "nbconvert_exporter": "python",
   "pygments_lexer": "ipython3",
   "version": "3.7.1"
  }
 },
 "nbformat": 4,
 "nbformat_minor": 2
}
